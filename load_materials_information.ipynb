{
 "cells": [
  {
   "cell_type": "markdown",
   "metadata": {},
   "source": [
    "# Crear la base de datos\n",
    "\n"
   ]
  },
  {
   "cell_type": "markdown",
   "metadata": {},
   "source": [
    "# A partir de su URL \n",
    "You can find the .zip file of a version [here](http://refractiveindex.info/download.php). For example, to load the version 2016-05-25:"
   ]
  },
  {
   "cell_type": "code",
   "execution_count": 13,
   "metadata": {},
   "outputs": [
    {
     "name": "stdout",
     "output_type": "stream",
     "text": [
      "The autoreload extension is already loaded. To reload it, use:\n",
      "  %reload_ext autoreload\n",
      "['__doc__', '__loader__', '__name__', '__package__', '__path__', '__spec__']\n",
      "Database file not found.\n",
      "Making request to http://refractiveindex.info/download/database/rii-database-2020-01-19.zip\n",
      "Downloaded and extracting...\n",
      "Wrote /database from http://refractiveindex.info/download/database/rii-database-2020-01-19.zip\n",
      "LOG: 560,main,ZnS,Amotchkina : Bad Material YAML File.\n",
      "***Wrote SQLite DB on  refractive.db\n"
     ]
    }
   ],
   "source": [
    "%load_ext autoreload\n",
    "%autoreload 2\n",
    "# from rii_api import refractivesqlite as refractivesqlite\n",
    "from . import rii_api\n",
    "print(dir(rii_api.rii_api))\n",
    "from refractivesqlite.refractivesqlite import dboperations as DB\n",
    "import numpy as np\n",
    "import matplotlib.pyplot as plt\n",
    "\n",
    "\n",
    "dbpath = \"refractive.db\"\n",
    "db = DB.Database(dbpath)\n",
    "db.create_database_from_url(riiurl=\"http://refractiveindex.info/download/database/rii-database-2020-01-19.zip\")"
   ]
  },
  {
   "cell_type": "markdown",
   "metadata": {},
   "source": [
    "## Searches"
   ]
  },
  {
   "cell_type": "markdown",
   "metadata": {},
   "source": [
    "### Search pages by term"
   ]
  },
  {
   "cell_type": "code",
   "execution_count": 38,
   "metadata": {},
   "outputs": [
    {
     "name": "stdout",
     "output_type": "stream",
     "text": [
      "1 results found.\n",
      "pageid\tshelf\tbook\tpage\tfilepath\thasrefractive\thasextinction\trangeMin\trangeMax\tpoints\n",
      "2752\t3d\tcrystals\tquartz\tmain/SiO2/Malitson.yml\t1\t0\t0.21\t6.7\t100\n",
      "[2752]\n"
     ]
    }
   ],
   "source": [
    "# db.search_pages(\"otanicar\")\n",
    "# By exact term\n",
    "indexes = db.search_pages('Quartz')\n",
    "# By refractive interval\n",
    "# db.search_n(n=0.3,delta_n=.0001)\n",
    "# # Search materials by extinction coefficient (*k*) interval\n",
    "# db.search_k(k=0.3,delta_k=.0001)\n",
    "# # Search materials by *n,k* interval\n",
    "# db.search_nk(n=0.3, delta_n=0.1,k=0.3,delta_k=0.1)\n",
    "print(indexes)"
   ]
  },
  {
   "cell_type": "markdown",
   "metadata": {},
   "source": [
    "### Load material by Id"
   ]
  },
  {
   "cell_type": "code",
   "execution_count": 23,
   "metadata": {},
   "outputs": [
    {
     "name": "stdout",
     "output_type": "stream",
     "text": [
      "1 results found.\n",
      "pageid\tshelf\tbook\tpage\tfilepath\thasrefractive\thasextinction\trangeMin\trangeMax\tpoints\n",
      "2752\t3d\tcrystals\tquartz\tmain/SiO2/Malitson.yml\t1\t0\t0.21\t6.7\t100\n",
      "Material main/SiO2/Malitson.yml loaded.\n"
     ]
    },
    {
     "data": {
      "text/plain": [
       "Text(0.5, 1.0, 'Material:crystalsquartz')"
      ]
     },
     "execution_count": 23,
     "metadata": {},
     "output_type": "execute_result"
    },
    {
     "data": {
      "image/png": "[encoded data removed]",
      "text/plain": [
       "<Figure size 432x288 with 1 Axes>"
      ]
     },
     "metadata": {
      "needs_background": "light"
     },
     "output_type": "display_data"
    }
   ],
   "source": [
    "indexes = db.search_pages('Quartz')\n",
    "mat = db.get_material(indexes[0])\n",
    "h = mat.get_page_info()\n",
    "ref_data = mat.get_complete_refractive()\n",
    "wlen = np.array(ref_data)[:30,0]\n",
    "n = np.array(ref_data)[:30,1]\n",
    "plt.plot(wlen, n)\n",
    "plt.title('Material:'+h['book']+h['page'])\n"
   ]
  },
  {
   "cell_type": "markdown",
   "metadata": {},
   "source": [
    "### Get all material extinction coefficient data"
   ]
  },
  {
   "cell_type": "code",
   "execution_count": 22,
   "metadata": {},
   "outputs": [
    {
     "name": "stdout",
     "output_type": "stream",
     "text": [
      "None\n"
     ]
    }
   ],
   "source": [
    "ref_data = mat.get_complete_extinction()\n",
    "# wlen = np.array(ref_data)[:30,0]\n",
    "# k = np.array(ref_data)[:30,1]\n",
    "# plt.plot(wlen, k)\n",
    "# plt.title('Material:'+h['book']+h['page'])\n",
    "print(ref_data)"
   ]
  },
  {
   "cell_type": "markdown",
   "metadata": {},
   "source": [
    "### Get all material extinction coefficient data as a numpy array"
   ]
  },
  {
   "cell_type": "code",
   "execution_count": 24,
   "metadata": {},
   "outputs": [
    {
     "name": "stdout",
     "output_type": "stream",
     "text": [
      "None\n"
     ]
    }
   ],
   "source": [
    "import numpy as np\n",
    "k = np.array(mat.get_complete_extinction())\n",
    "print(k)"
   ]
  },
  {
   "cell_type": "code",
   "execution_count": null,
   "metadata": {},
   "outputs": [],
   "source": [
    "## Materiales importantes para el proyecto"
   ]
  },
  {
   "cell_type": "code",
   "execution_count": 44,
   "metadata": {},
   "outputs": [],
   "source": [
    "minerals = ['fluorite', 'analcime', 'orthoclase', 'microcline', 'albite (plagioclase)', 'oligoclase (plagioclase)', 'nepheline', 'cordierite', \n",
    "'andesine (plagioclase)', 'quartz', 'labradorite (plagioclase)', 'calcite', 'bytowonite (plagioclase)', 'muscovite', 'anorthite (plagioclase)',\n",
    "'tremolite (amphibole)', 'anthophyllite (orthoamphibol e)', 'actinolite(amphibole)', 'apatite', 'andalusite', 'olivine', 'sillimanite',\n",
    "'orthopyroxene', 'diopside-augiteclinopyroxene', 'spinel', 'kyanite', 'epidote', 'garnet', 'titanite', 'zircon', 'biotite', 'chlorite',\n",
    "'actinolite (amphibole)', 'hornblende (amphibole)', 'clinopyroxene', 'orthopyroxene', 'spinel', 'epidote', 'aegirine (clinopyroxene)',\n",
    "'tourmaline', 'epidote', 'staurolite', 'rutile', 'biotite', 'tourmaline', 'brown', 'amphibole', 'augite,', 'titanian (clinopyroxe ne)',\n",
    "'spinel', 'garnet', '(melanite)', 'titanite', 'rutile', 'fluorite', 'glaucophane (amphibole)', 'tourmaline', 'Na amphiboles', 'garnet',\n",
    "'orthopyroxene', 'hematite', 'andalusite', 'sericite', 'iddingsite', 'serpentine', 'uralite', 'leucoxene', 'limonite']\n"
   ]
  },
  {
   "cell_type": "code",
   "execution_count": 50,
   "metadata": {},
   "outputs": [
    {
     "data": {
      "text/plain": [
       "'quartz'"
      ]
     },
     "execution_count": 50,
     "metadata": {},
     "output_type": "execute_result"
    }
   ],
   "source": [
    "minerals[9]"
   ]
  },
  {
   "cell_type": "code",
   "execution_count": null,
   "metadata": {},
   "outputs": [],
   "source": []
  }
 ],
 "metadata": {
  "kernelspec": {
   "display_name": "Python 3",
   "language": "python",
   "name": "python3"
  },
  "language_info": {
   "codemirror_mode": {
    "name": "ipython",
    "version": 3
   },
   "file_extension": ".py",
   "mimetype": "text/x-python",
   "name": "python",
   "nbconvert_exporter": "python",
   "pygments_lexer": "ipython3",
   "version": "3.6.9"
  }
 },
 "nbformat": 4,
 "nbformat_minor": 1
}
