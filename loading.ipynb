{
 "cells": [
  {
   "cell_type": "markdown",
   "metadata": {},
   "source": [
    "# Introduction\n",
    "\n",
    "This is a brief introduction to the [refractivesqlite package](https://github.com/HugoGuillen/refractiveindex.info-sqlite) developed by [Hugo Guillén](https://github.com/HugoGuillen). This package is a wrapper in Python 3 for the database of optical constants [refractiveindex.info](http://refractiveindex.info/) developed by [Mikhail Polyanskiy](https://github.com/polyanskiy). \n",
    "\n",
    "For better visualization, this tutorial can be downloaded as an interactive Jupyter Notebook [here](https://github.com/HugoGuillen/refractiveindex.info-sqlite/blob/master/Tutorial.ipynb).\n",
    "\n",
    "## Features\n",
    "The principal functionality of this package is to allow offline/programmatically queries to the database such as:\n",
    "- Create a local SQLite database from the refractiveindex yml folder.\n",
    "- Create a local SQLite database from the refractiveindex.zip url.\n",
    "- Search the local database pages by approximate or exact terms.\n",
    "- Search material data (refractiveindex, extinctioncoefficient) by intervals.\n",
    "- Execute custom SQL queries on the database.\n",
    "- Export material data (refractiveindex, extinctioncoefficient) to numpy arrays or csv files.\n",
    "- Get data (refractiveindex, extinctioncoefficient) at specified wavelengths.\n",
    "\n",
    "## Scheme\n",
    "The package creates a database with the [following scheme](https://github.com/HugoGuillen/refractiveindex.info-sqlite/blob/master/ER.PNG).\n",
    "\n",
    "![Scheme](ER.PNG \"Scheme\")\n",
    "\n",
    "The table ``pages`` contains information about the materials; ``refractiveindex``  and ``extcoeff`` are self explanatory."
   ]
  },
  {
   "cell_type": "markdown",
   "metadata": {},
   "source": [
    "# Features\n",
    "## Create the database\n",
    "\n",
    "Note: once created, you don't need to create the DB again!\n",
    "In both methods you can specify the interpolation_points for the case when *n* is expressed as a formula and *k* is not defined."
   ]
  },
  {
   "cell_type": "markdown",
   "metadata": {},
   "source": [
    "### Create from a custom URL \n",
    "You can find the .zip file of a version [here](http://refractiveindex.info/download.php). For example, to load the version 2016-05-25:"
   ]
  },
  {
   "cell_type": "code",
   "execution_count": 22,
   "metadata": {},
   "outputs": [
    {
     "name": "stdout",
     "output_type": "stream",
     "text": [
      "The autoreload extension is already loaded. To reload it, use:\n",
      "  %reload_ext autoreload\n",
      "Database file found at refractive.db\n",
      "Making request to http://refractiveindex.info/download/database/rii-database-2020-01-19.zip\n",
      "Downloaded and extracting...\n",
      "Wrote /database from http://refractiveindex.info/download/database/rii-database-2020-01-19.zip\n",
      "LOG: 560,main,ZnS,Amotchkina : Bad Material YAML File.\n",
      "***Wrote SQLite DB on  refractive.db\n"
     ]
    }
   ],
   "source": [
    "%load_ext autoreload\n",
    "%autoreload 2\n",
    "from refractivesqlite import dboperations as DB\n",
    "import numpy as np\n",
    "import matplotlib.pyplot as plt\n",
    "\n",
    "\n",
    "dbpath = \"refractive.db\"\n",
    "db = DB.Database(dbpath)\n",
    "db.create_database_from_url(riiurl=\"http://refractiveindex.info/download/database/rii-database-2020-01-19.zip\")"
   ]
  },
  {
   "cell_type": "markdown",
   "metadata": {},
   "source": [
    "## Searches"
   ]
  },
  {
   "cell_type": "markdown",
   "metadata": {},
   "source": [
    "### List all pages"
   ]
  },
  {
   "cell_type": "code",
   "execution_count": 35,
   "metadata": {},
   "outputs": [
    {
     "name": "stdout",
     "output_type": "stream",
     "text": [
      "1 results found.\n",
      "pageid\tshelf\tbook\tpage\tfilepath\thasrefractive\thasextinction\trangeMin\trangeMax\tpoints\n",
      "2752\t3d\tcrystals\tquartz\tmain/SiO2/Malitson.yml\t1\t0\t0.21\t6.7\t100\n"
     ]
    },
    {
     "data": {
      "text/plain": [
       "[2752]"
      ]
     },
     "execution_count": 35,
     "metadata": {},
     "output_type": "execute_result"
    }
   ],
   "source": [
    "db.search_pages('Quartz')"
   ]
  },
  {
   "cell_type": "markdown",
   "metadata": {},
   "source": [
    "### Search pages by term"
   ]
  },
  {
   "cell_type": "code",
   "execution_count": 38,
   "metadata": {},
   "outputs": [
    {
     "name": "stdout",
     "output_type": "stream",
     "text": [
      "1 results found.\n",
      "pageid\tshelf\tbook\tpage\tfilepath\thasrefractive\thasextinction\trangeMin\trangeMax\tpoints\n",
      "2752\t3d\tcrystals\tquartz\tmain/SiO2/Malitson.yml\t1\t0\t0.21\t6.7\t100\n",
      "[2752]\n"
     ]
    }
   ],
   "source": [
    "# db.search_pages(\"otanicar\")\n",
    "# By exact term\n",
    "indexes = db.search_pages('Quartz')\n",
    "# By refractive interval\n",
    "# db.search_n(n=0.3,delta_n=.0001)\n",
    "# # Search materials by extinction coefficient (*k*) interval\n",
    "# db.search_k(k=0.3,delta_k=.0001)\n",
    "# # Search materials by *n,k* interval\n",
    "# db.search_nk(n=0.3, delta_n=0.1,k=0.3,delta_k=0.1)\n",
    "print(indexes)"
   ]
  },
  {
   "cell_type": "markdown",
   "metadata": {},
   "source": [
    "### Load material by Id"
   ]
  },
  {
   "cell_type": "code",
   "execution_count": 54,
   "metadata": {},
   "outputs": [
    {
     "name": "stdout",
     "output_type": "stream",
     "text": [
      "6 results found.\n",
      "pageid\tshelf\tbook\tpage\tfilepath\thasrefractive\thasextinction\trangeMin\trangeMax\tpoints\n",
      "191\tmain\tCaF2\tMalitson\tmain/CaF2/Malitson.yml\t1\t0\t0.23\t9.7\t100\n",
      "192\tmain\tCaF2\tDaimon-20\tmain/CaF2/Daimon-20.yml\t1\t0\t0.138\t2.326\t100\n",
      "193\tmain\tCaF2\tDaimon-25\tmain/CaF2/Daimon-25.yml\t1\t0\t0.138\t2.326\t100\n",
      "194\tmain\tCaF2\tLi\tmain/CaF2/Li.yml\t1\t0\t0.15\t12.0\t100\n",
      "195\tmain\tCaF2\tKaiser\tmain/CaF2/Kaiser.yml\t1\t1\t10.0\t80.0\t1401\n",
      "898\tglass\tSCHOTT-multipurpose\tLITHOTEC-CAF2\tglass/schott/LITHOTEC-CAF2.yml\t1\t1\t0.25\t2.5\t30\n",
      "Material main/CaF2/Malitson.yml loaded.\n",
      "OrderedDict([('pageid', 191), ('shelf', 'main'), ('book', 'CaF2'), ('page', 'Malitson'), ('filepath', 'main/CaF2/Malitson.yml'), ('hasrefractive', 1), ('hasextinction', 0), ('rangeMin', 0.23), ('rangeMax', 9.7), ('points', 100)])\n"
     ]
    },
    {
     "data": {
      "image/png": "[encoded data removed]",
      "text/plain": [
       "<Figure size 432x288 with 1 Axes>"
      ]
     },
     "metadata": {
      "needs_background": "light"
     },
     "output_type": "display_data"
    }
   ],
   "source": [
    "indexes = db.search_pages('CaF2')\n",
    "mat = db.get_material(indexes[0])\n",
    "h = mat.get_page_info()\n",
    "ref_data = mat.get_complete_refractive()\n",
    "wlen = np.array(ref_data)[:30,0]\n",
    "n = np.array(ref_data)[:30,1]\n",
    "plt.plot(wlen, n)\n",
    "plt.title('Material:'+h['book']+h['page'])\n",
    "print(h)"
   ]
  },
  {
   "cell_type": "markdown",
   "metadata": {},
   "source": [
    "### Get all material extinction coefficient data"
   ]
  },
  {
   "cell_type": "code",
   "execution_count": null,
   "metadata": {},
   "outputs": [],
   "source": [
    "k = mat.get_complete_extinction()\n",
    "print(k)"
   ]
  },
  {
   "cell_type": "markdown",
   "metadata": {},
   "source": [
    "### Get all material extinction coefficient data as a numpy array"
   ]
  },
  {
   "cell_type": "code",
   "execution_count": null,
   "metadata": {},
   "outputs": [],
   "source": [
    "import numpy as np\n",
    "k = np.array(mat.get_complete_extinction())\n",
    "print(k)"
   ]
  },
  {
   "cell_type": "code",
   "execution_count": 44,
   "metadata": {},
   "outputs": [],
   "source": [
    "minerals = ['fluorite', 'analcime', 'orthoclase', 'microcline', 'albite (plagioclase)', 'oligoclase (plagioclase)', 'nepheline', 'cordierite', \n",
    "'andesine (plagioclase)', 'quartz', 'labradorite (plagioclase)', 'calcite', 'bytowonite (plagioclase)', 'muscovite', 'anorthite (plagioclase)',\n",
    "'tremolite (amphibole)', 'anthophyllite (orthoamphibol e)', 'actinolite(amphibole)', 'apatite', 'andalusite', 'olivine', 'sillimanite',\n",
    "'orthopyroxene', 'diopside-augiteclinopyroxene', 'spinel', 'kyanite', 'epidote', 'garnet', 'titanite', 'zircon', 'biotite', 'chlorite',\n",
    "'actinolite (amphibole)', 'hornblende (amphibole)', 'clinopyroxene', 'orthopyroxene', 'spinel', 'epidote', 'aegirine (clinopyroxene)',\n",
    "'tourmaline', 'epidote', 'staurolite', 'rutile', 'biotite', 'tourmaline', 'brown', 'amphibole', 'augite,', 'titanian (clinopyroxe ne)',\n",
    "'spinel', 'garnet', '(melanite)', 'titanite', 'rutile', 'fluorite', 'glaucophane (amphibole)', 'tourmaline', 'Na amphiboles', 'garnet',\n",
    "'orthopyroxene', 'hematite', 'andalusite', 'sericite', 'iddingsite', 'serpentine', 'uralite', 'leucoxene', 'limonite']\n"
   ]
  },
  {
   "cell_type": "code",
   "execution_count": 65,
   "metadata": {},
   "outputs": [
    {
     "name": "stdout",
     "output_type": "stream",
     "text": [
      "17 results found.\n",
      "pageid\tshelf\tbook\tpage\tfilepath\thasrefractive\thasextinction\trangeMin\trangeMax\tpoints\n",
      "428\tmain\tSiO2\tMalitson\tmain/SiO2/Malitson.yml\t1\t0\t0.21\t6.7\t100\n",
      "429\tmain\tSiO2\tPopova\tmain/SiO2/Popova.yml\t1\t1\t7.0\t50.0\t200\n",
      "430\tmain\tSiO2\tGhosh-o\tmain/SiO2/Ghosh-o.yml\t1\t0\t0.198\t2.0531\t100\n",
      "431\tmain\tSiO2\tGhosh-e\tmain/SiO2/Ghosh-e.yml\t1\t0\t0.198\t2.0531\t100\n",
      "432\tmain\tSiO2\tRadhakrishnan-o\tmain/SiO2/Radhakrishnan-o.yml\t1\t0\t0.18\t3.0\t100\n",
      "433\tmain\tSiO2\tRadhakrishnan-e\tmain/SiO2/Radhakrishnan-e.yml\t1\t0\t0.18\t3.0\t100\n",
      "434\tmain\tSiO2\tKischkat\tmain/SiO2/Kischkat.yml\t1\t1\t1.53846\t14.28571\t1451\n",
      "435\tmain\tSiO2\tRodriguez-de_Marcos\tmain/SiO2/Rodriguez-de Marcos.yml\t1\t1\t0.0299714\t1.51066\t395\n",
      "436\tmain\tSiO2\tGao\tmain/SiO2/Gao.yml\t1\t1\t0.252\t1.25\t500\n",
      "437\tmain\tSiO2\tLemarchand\tmain/SiO2/Lemarchand.yml\t1\t1\t0.25\t2.5\t451\n",
      "639\tmain\tBi12SiO20\tGospodinov\tmain/Bi12SiO20/Gospodinov.yml\t1\t0\t0.48\t0.7\t100\n",
      "882\tglass\tfused_silica\tMalitson\tmain/SiO2/Malitson.yml\t1\t0\t0.21\t6.7\t100\n",
      "899\tglass\tHIKARI-multipurpose\tNIFS-A\thikari/SiO2/NIFS-A.yml\t1\t1\t0.18489\t2.32542\t35\n",
      "900\tglass\tHIKARI-multipurpose\tNIFS-S\thikari/SiO2/NIFS-S.yml\t1\t1\t0.18489\t2.32542\t34\n",
      "901\tglass\tHIKARI-multipurpose\tNIFS-U\thikari/SiO2/NIFS-U.yml\t1\t1\t0.18489\t2.32542\t34\n",
      "902\tglass\tHIKARI-multipurpose\tNIFS-V\thikari/SiO2/NIFS-V.yml\t1\t1\t0.18489\t2.32542\t36\n",
      "2752\t3d\tcrystals\tquartz\tmain/SiO2/Malitson.yml\t1\t0\t0.21\t6.7\t100\n"
     ]
    },
    {
     "data": {
      "text/plain": [
       "[428,\n",
       " 429,\n",
       " 430,\n",
       " 431,\n",
       " 432,\n",
       " 433,\n",
       " 434,\n",
       " 435,\n",
       " 436,\n",
       " 437,\n",
       " 639,\n",
       " 882,\n",
       " 899,\n",
       " 900,\n",
       " 901,\n",
       " 902,\n",
       " 2752]"
      ]
     },
     "execution_count": 65,
     "metadata": {},
     "output_type": "execute_result"
    }
   ],
   "source": [
    "db.search_pages('sio2')"
   ]
  },
  {
   "cell_type": "code",
   "execution_count": 50,
   "metadata": {},
   "outputs": [
    {
     "data": {
      "text/plain": [
       "'quartz'"
      ]
     },
     "execution_count": 50,
     "metadata": {},
     "output_type": "execute_result"
    }
   ],
   "source": [
    "minerals[9]"
   ]
  },
  {
   "cell_type": "code",
   "execution_count": null,
   "metadata": {},
   "outputs": [],
   "source": []
  }
 ],
 "metadata": {
  "kernelspec": {
   "display_name": "Python 3",
   "language": "python",
   "name": "python3"
  },
  "language_info": {
   "codemirror_mode": {
    "name": "ipython",
    "version": 3
   },
   "file_extension": ".py",
   "mimetype": "text/x-python",
   "name": "python",
   "nbconvert_exporter": "python",
   "pygments_lexer": "ipython3",
   "version": "3.6.9"
  }
 },
 "nbformat": 4,
 "nbformat_minor": 1
}
